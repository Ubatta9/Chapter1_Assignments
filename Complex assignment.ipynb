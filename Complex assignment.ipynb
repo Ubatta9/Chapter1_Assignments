{
 "cells": [
  {
   "cell_type": "markdown",
   "id": "9342098c",
   "metadata": {},
   "source": [
    "# Q. Declare a complex number and store it in a variable.\n",
    "#### Check the type and print the id of the same."
   ]
  },
  {
   "cell_type": "code",
   "execution_count": 1,
   "id": "381dbf7a",
   "metadata": {},
   "outputs": [
    {
     "name": "stdout",
     "output_type": "stream",
     "text": [
      "<class 'complex'>\n",
      "1725941929680\n"
     ]
    }
   ],
   "source": [
    "a = 6 + 5j\n",
    "print(type(a)) # Checking type\n",
    "print(id(a))   # checking id"
   ]
  },
  {
   "cell_type": "code",
   "execution_count": null,
   "id": "c0062153",
   "metadata": {},
   "outputs": [],
   "source": []
  },
  {
   "cell_type": "markdown",
   "id": "3c32bca6",
   "metadata": {},
   "source": [
    "# Q. Arithmetic Operations on complex number\n",
    "#### Take two different complex numbers.\n",
    "#### Store them in two different variables.\n",
    "# Do below operations on them:-\n",
    "- Find sum of both numbers\n",
    "- Find difference between them\n",
    "- Find the product of both numbers.\n",
    "- Find value after dividing first num with second number\n",
    "- Find the result of the first num to the power of the second number."
   ]
  },
  {
   "cell_type": "code",
   "execution_count": 2,
   "id": "b7b83bea",
   "metadata": {},
   "outputs": [],
   "source": [
    "a = 4 + 5j\n",
    "b = 6 - 3j\n"
   ]
  },
  {
   "cell_type": "code",
   "execution_count": 3,
   "id": "c027ca40",
   "metadata": {},
   "outputs": [
    {
     "name": "stdout",
     "output_type": "stream",
     "text": [
      "Sum of (4+5j) and (6-3j) is: (10+2j)\n"
     ]
    }
   ],
   "source": [
    "# Find sum of both numbers\n",
    "c = a + b\n",
    "print(f'Sum of {a} and {b} is: {c}')"
   ]
  },
  {
   "cell_type": "code",
   "execution_count": 4,
   "id": "1a145b3e",
   "metadata": {},
   "outputs": [
    {
     "name": "stdout",
     "output_type": "stream",
     "text": [
      "difference between (4+5j) and (6-3j) is: (-2+8j)\n"
     ]
    }
   ],
   "source": [
    "# Find difference between them\n",
    "d = a - b\n",
    "print(f'difference between {a} and {b} is: {d}')"
   ]
  },
  {
   "cell_type": "code",
   "execution_count": 5,
   "id": "d169c137",
   "metadata": {},
   "outputs": [
    {
     "name": "stdout",
     "output_type": "stream",
     "text": [
      "Product of (4+5j) and (6-3j) is: (39+18j)\n"
     ]
    }
   ],
   "source": [
    "# Find the product of both numbers.\n",
    "e = a * b\n",
    "print(f'Product of {a} and {b} is: {e}')"
   ]
  },
  {
   "cell_type": "code",
   "execution_count": 6,
   "id": "c24de0a8",
   "metadata": {},
   "outputs": [
    {
     "name": "stdout",
     "output_type": "stream",
     "text": [
      "Division of (4+5j) and (6-3j) is: (0.2+0.9333333333333333j)\n"
     ]
    }
   ],
   "source": [
    "# Find value after dividing first num with second number\n",
    "f = a / b\n",
    "print(f'Division of {a} and {b} is: {f}')"
   ]
  },
  {
   "cell_type": "code",
   "execution_count": 7,
   "id": "39df2c5e",
   "metadata": {},
   "outputs": [
    {
     "name": "stdout",
     "output_type": "stream",
     "text": [
      "(4+5j) to the power of (6-3j) is: (994444.9771168944-195406.2394451857j)\n"
     ]
    }
   ],
   "source": [
    "# Find the result of the first num to the power of the second number.\n",
    "i = a ** b\n",
    "print(f'{a} to the power of {b} is: {i}')"
   ]
  },
  {
   "cell_type": "code",
   "execution_count": null,
   "id": "f701c67c",
   "metadata": {},
   "outputs": [],
   "source": []
  },
  {
   "cell_type": "markdown",
   "id": "f5e89f19",
   "metadata": {},
   "source": [
    "# Q. Comparison Operation not applicable between instance of complex values.\n",
    "- Object reusability concept is not applicable on complex number"
   ]
  },
  {
   "cell_type": "code",
   "execution_count": 9,
   "id": "e331d822",
   "metadata": {},
   "outputs": [],
   "source": [
    "a = 3 + 4j\n",
    "b = 7 - 2j\n",
    "# a > b Throws type error"
   ]
  },
  {
   "cell_type": "code",
   "execution_count": null,
   "id": "051f01b1",
   "metadata": {},
   "outputs": [],
   "source": []
  },
  {
   "cell_type": "markdown",
   "id": "83b342a4",
   "metadata": {},
   "source": [
    "# Q. Equality Operator\n",
    "#### Take two different complex numbers.\n",
    "#### Store them in two different variables.\n",
    "- Equate them using equality operators (==, !=)\n",
    "- Observe the output(return type should be boolean)"
   ]
  },
  {
   "cell_type": "code",
   "execution_count": 10,
   "id": "7a8cd3ed",
   "metadata": {},
   "outputs": [
    {
     "name": "stdout",
     "output_type": "stream",
     "text": [
      "False\n"
     ]
    }
   ],
   "source": [
    "a = 8 + 3j\n",
    "b = 5 + 2j\n",
    "\n",
    "# Equate them using equality operators (==, !=)\n",
    "print(a == b)"
   ]
  },
  {
   "cell_type": "code",
   "execution_count": 11,
   "id": "e403d07e",
   "metadata": {},
   "outputs": [
    {
     "name": "stdout",
     "output_type": "stream",
     "text": [
      "True\n"
     ]
    }
   ],
   "source": [
    "print(a != b)"
   ]
  },
  {
   "cell_type": "code",
   "execution_count": null,
   "id": "d960731a",
   "metadata": {},
   "outputs": [],
   "source": []
  },
  {
   "cell_type": "markdown",
   "id": "f27ac007",
   "metadata": {},
   "source": [
    "# Q. Logical operators\n",
    "#### Observe the output of below code\n",
    "### Cross check the output manually\n",
    "- print(10+20j and 20+30j) #20+30j\n",
    "#----------------------------------------->Output is 20+30j\n",
    "- print(0+0j and 20+30j) #0+0j\n",
    "#----------------------------------------->Output is 0j\n",
    "- print(20+30j and 0+0j) #0+0j\n",
    "#----------------------------------------->Output is 0j\n",
    "- print(0+0j and 0+0j) #0+0j\n",
    "#----------------------------------------->Output is 0j\n",
    "- print(10+20j or 20+30j) #10+20j\n",
    "#----------------------------------------->Output is 10+20j\n",
    "\n",
    "- print(0+0j or 20+30j) #20+30j\n",
    "#----------------------------------------->Output is 20+30j\n",
    "- print(20+30j or 0+0j) #20+30j\n",
    "#----------------------------------------->Output is 20+30j\n",
    "- print(0+0j or 0+0j) #0+0j\n",
    "#----------------------------------------->Output is 0j\n",
    "- print(not 10+20j) #False\n",
    "#----------------------------------------->Output is False\n",
    "- print(not 0+0j) #True\n",
    "#----------------------------------------->Output is True"
   ]
  },
  {
   "cell_type": "code",
   "execution_count": 12,
   "id": "e12b57cc",
   "metadata": {},
   "outputs": [
    {
     "name": "stdout",
     "output_type": "stream",
     "text": [
      "(20+30j)\n"
     ]
    }
   ],
   "source": [
    "print(10+20j and 20+30j)"
   ]
  },
  {
   "cell_type": "code",
   "execution_count": 13,
   "id": "02827c17",
   "metadata": {},
   "outputs": [
    {
     "name": "stdout",
     "output_type": "stream",
     "text": [
      "0j\n"
     ]
    }
   ],
   "source": [
    "print(0+0j and 20+30j)"
   ]
  },
  {
   "cell_type": "code",
   "execution_count": 14,
   "id": "2da150f6",
   "metadata": {},
   "outputs": [
    {
     "name": "stdout",
     "output_type": "stream",
     "text": [
      "0j\n"
     ]
    }
   ],
   "source": [
    "print(20+30j and 0+0j)"
   ]
  },
  {
   "cell_type": "code",
   "execution_count": 15,
   "id": "6a045ae0",
   "metadata": {},
   "outputs": [
    {
     "name": "stdout",
     "output_type": "stream",
     "text": [
      "0j\n"
     ]
    }
   ],
   "source": [
    "print(0+0j and 0+0j)"
   ]
  },
  {
   "cell_type": "code",
   "execution_count": 16,
   "id": "c01c8971",
   "metadata": {},
   "outputs": [
    {
     "name": "stdout",
     "output_type": "stream",
     "text": [
      "(10+20j)\n"
     ]
    }
   ],
   "source": [
    "print(10+20j or 20+30j)"
   ]
  },
  {
   "cell_type": "code",
   "execution_count": 17,
   "id": "06088055",
   "metadata": {},
   "outputs": [
    {
     "name": "stdout",
     "output_type": "stream",
     "text": [
      "(20+30j)\n"
     ]
    }
   ],
   "source": [
    "print(0+0j or 20+30j)"
   ]
  },
  {
   "cell_type": "code",
   "execution_count": 18,
   "id": "1d3ce578",
   "metadata": {},
   "outputs": [
    {
     "name": "stdout",
     "output_type": "stream",
     "text": [
      "(20+30j)\n"
     ]
    }
   ],
   "source": [
    "print(20+30j or 0+0j)"
   ]
  },
  {
   "cell_type": "code",
   "execution_count": 19,
   "id": "65aa2ddd",
   "metadata": {},
   "outputs": [
    {
     "name": "stdout",
     "output_type": "stream",
     "text": [
      "0j\n"
     ]
    }
   ],
   "source": [
    "print(0+0j or 0+0j)"
   ]
  },
  {
   "cell_type": "code",
   "execution_count": 20,
   "id": "04c73825",
   "metadata": {},
   "outputs": [
    {
     "name": "stdout",
     "output_type": "stream",
     "text": [
      "False\n"
     ]
    }
   ],
   "source": [
    "print(not 10+20j)"
   ]
  },
  {
   "cell_type": "code",
   "execution_count": 21,
   "id": "81334bce",
   "metadata": {},
   "outputs": [
    {
     "name": "stdout",
     "output_type": "stream",
     "text": [
      "True\n"
     ]
    }
   ],
   "source": [
    "print(not 0+0j)"
   ]
  },
  {
   "cell_type": "code",
   "execution_count": null,
   "id": "7292d8fd",
   "metadata": {},
   "outputs": [],
   "source": []
  },
  {
   "cell_type": "markdown",
   "id": "a51468c4",
   "metadata": {},
   "source": [
    "# Q. What is the output of the expression inside the print statement.\n",
    "#### Cross check before running the program.\n",
    "- a = 10+20j\n",
    "- b = 10+20j\n",
    "- print(a is b) #False #True or False?\n",
    "- print(a is not b) #True #True or False?"
   ]
  },
  {
   "cell_type": "code",
   "execution_count": 23,
   "id": "d1527aa6",
   "metadata": {},
   "outputs": [
    {
     "name": "stdout",
     "output_type": "stream",
     "text": [
      "False\n"
     ]
    }
   ],
   "source": [
    "a = 10+20j\n",
    "b = 10+20j\n",
    "print(a is b)  #True or False?  False"
   ]
  },
  {
   "cell_type": "code",
   "execution_count": 24,
   "id": "cc457e6f",
   "metadata": {},
   "outputs": [
    {
     "name": "stdout",
     "output_type": "stream",
     "text": [
      "True\n"
     ]
    }
   ],
   "source": [
    "print(a is not b)  #True or False? True"
   ]
  },
  {
   "cell_type": "code",
   "execution_count": null,
   "id": "9044db1f",
   "metadata": {},
   "outputs": [],
   "source": []
  },
  {
   "cell_type": "markdown",
   "id": "6b6dfb7f",
   "metadata": {},
   "source": [
    "# Q. Membership operation\n",
    "#### in, not in are two membership operators and it returns boolean value\n",
    "- print('2.7' in 'Python2.7.8') #True\n",
    "- print(10+20j in [10,10.20,10+20j,'Python']) #True\n",
    "- print(10+20j in (10,10.20,10+20j,'Python')) #True\n",
    "- print(30+40j in {1,20.30,30+40j}) #True\n",
    "- print(30+40j in {1:100, 2.3:200, 30+40j:300}) #True\n",
    "- print(10 in range(20)) #True"
   ]
  },
  {
   "cell_type": "code",
   "execution_count": 25,
   "id": "a7517352",
   "metadata": {},
   "outputs": [
    {
     "name": "stdout",
     "output_type": "stream",
     "text": [
      "True\n"
     ]
    }
   ],
   "source": [
    "print('2.7' in 'Python2.7.8')"
   ]
  },
  {
   "cell_type": "code",
   "execution_count": 26,
   "id": "5715b72c",
   "metadata": {},
   "outputs": [
    {
     "name": "stdout",
     "output_type": "stream",
     "text": [
      "True\n"
     ]
    }
   ],
   "source": [
    "print(10+20j in [10,10.20,10+20j,'Python'])"
   ]
  },
  {
   "cell_type": "code",
   "execution_count": 27,
   "id": "e81d8a79",
   "metadata": {},
   "outputs": [
    {
     "name": "stdout",
     "output_type": "stream",
     "text": [
      "True\n"
     ]
    }
   ],
   "source": [
    "print(10+20j in (10,10.20,10+20j,'Python'))"
   ]
  },
  {
   "cell_type": "code",
   "execution_count": 28,
   "id": "28cc091e",
   "metadata": {},
   "outputs": [
    {
     "name": "stdout",
     "output_type": "stream",
     "text": [
      "True\n"
     ]
    }
   ],
   "source": [
    "print(30+40j in {1,20.30,30+40j})"
   ]
  },
  {
   "cell_type": "code",
   "execution_count": 29,
   "id": "a0652b9d",
   "metadata": {},
   "outputs": [
    {
     "name": "stdout",
     "output_type": "stream",
     "text": [
      "True\n"
     ]
    }
   ],
   "source": [
    "print(30+40j in {1:100, 2.3:200, 30+40j:300})"
   ]
  },
  {
   "cell_type": "code",
   "execution_count": 30,
   "id": "e0f8f228",
   "metadata": {},
   "outputs": [
    {
     "name": "stdout",
     "output_type": "stream",
     "text": [
      "True\n"
     ]
    }
   ],
   "source": [
    "print(10 in range(20))"
   ]
  },
  {
   "cell_type": "code",
   "execution_count": null,
   "id": "0ad8077b",
   "metadata": {},
   "outputs": [],
   "source": []
  }
 ],
 "metadata": {
  "kernelspec": {
   "display_name": "Python 3 (ipykernel)",
   "language": "python",
   "name": "python3"
  },
  "language_info": {
   "codemirror_mode": {
    "name": "ipython",
    "version": 3
   },
   "file_extension": ".py",
   "mimetype": "text/x-python",
   "name": "python",
   "nbconvert_exporter": "python",
   "pygments_lexer": "ipython3",
   "version": "3.9.13"
  }
 },
 "nbformat": 4,
 "nbformat_minor": 5
}
