{
 "cells": [
  {
   "cell_type": "markdown",
   "id": "cce4f519",
   "metadata": {},
   "source": [
    "# Q. Declare a float value and store it in a variable.\n",
    "##### Check the type and print the id of the same."
   ]
  },
  {
   "cell_type": "code",
   "execution_count": 3,
   "id": "ff51e137",
   "metadata": {},
   "outputs": [
    {
     "name": "stdout",
     "output_type": "stream",
     "text": [
      "type of 6.5 is: <class 'float'>\n",
      "id of 6.5 is: 2287887898128\n"
     ]
    }
   ],
   "source": [
    "a = 6.5\n",
    "print(f'type of {a} is: {type(a)}')\n",
    "print(f'id of {a} is: {id(a)}')"
   ]
  },
  {
   "cell_type": "code",
   "execution_count": null,
   "id": "1b1675b5",
   "metadata": {},
   "outputs": [],
   "source": []
  },
  {
   "cell_type": "markdown",
   "id": "2efb5b86",
   "metadata": {},
   "source": [
    "# Q. Arithmetic Operations on float\n",
    "#### Take two different float values.\n",
    "#### Store them in two different variables.\n",
    "## Do below operations on them:-\n",
    "- Find sum of both numbers\n",
    "- Find difference between them\n",
    "- Find the product of both numbers.\n",
    "- Find value after dividing first num with second number\n",
    "- Find the remainder after dividing first number with second number\n",
    "- Find the quotient after dividing first number with second number\n",
    "- Find the result of the first num to the power of the second number."
   ]
  },
  {
   "cell_type": "code",
   "execution_count": 4,
   "id": "9278d0f1",
   "metadata": {},
   "outputs": [],
   "source": [
    "a = 3.9\n",
    "b = 4.8"
   ]
  },
  {
   "cell_type": "code",
   "execution_count": 5,
   "id": "9a0f5267",
   "metadata": {},
   "outputs": [
    {
     "name": "stdout",
     "output_type": "stream",
     "text": [
      "Sum of 3.9 and 4.8 is: 8.7\n"
     ]
    }
   ],
   "source": [
    "# Find sum of both numbers\n",
    "print(f'Sum of {a} and {b} is: {a + b}')"
   ]
  },
  {
   "cell_type": "code",
   "execution_count": 6,
   "id": "8d50f2ec",
   "metadata": {},
   "outputs": [
    {
     "name": "stdout",
     "output_type": "stream",
     "text": [
      "Difference between 3.9 and 4.8 is: -0.8999999999999999\n"
     ]
    }
   ],
   "source": [
    "# Find difference between them\n",
    "print(f'Difference between {a} and {b} is: {a - b}')"
   ]
  },
  {
   "cell_type": "code",
   "execution_count": 7,
   "id": "7ed13880",
   "metadata": {},
   "outputs": [
    {
     "name": "stdout",
     "output_type": "stream",
     "text": [
      "Product of 3.9 and 4.8 is: 18.72\n"
     ]
    }
   ],
   "source": [
    "# Find the product of both numbers\n",
    "print(f'Product of {a} and {b} is: {a * b}')"
   ]
  },
  {
   "cell_type": "code",
   "execution_count": 8,
   "id": "0d94cc40",
   "metadata": {},
   "outputs": [
    {
     "name": "stdout",
     "output_type": "stream",
     "text": [
      "Division of 3.9 and 4.8 is: 0.8125\n"
     ]
    }
   ],
   "source": [
    "# Find value after dividing first num with second number\n",
    "print(f'Division of {a} and {b} is: {a / b}')"
   ]
  },
  {
   "cell_type": "code",
   "execution_count": 9,
   "id": "1a5657dd",
   "metadata": {},
   "outputs": [
    {
     "name": "stdout",
     "output_type": "stream",
     "text": [
      "remainder after dividing 3.9 with 4.8 is : 3.9\n"
     ]
    }
   ],
   "source": [
    "# Find the remainder after dividing first number with second number\n",
    "print(f'remainder after dividing {a} with {b} is : {a % b}')"
   ]
  },
  {
   "cell_type": "code",
   "execution_count": 10,
   "id": "b7de8f47",
   "metadata": {},
   "outputs": [
    {
     "name": "stdout",
     "output_type": "stream",
     "text": [
      "The quotient after dividing 3.9 with 4.8 is: 0.0\n"
     ]
    }
   ],
   "source": [
    "# Find the quotient after dividing first number with second number\n",
    "print(f'The quotient after dividing {a} with {b} is: {a // b}')"
   ]
  },
  {
   "cell_type": "code",
   "execution_count": 11,
   "id": "7e7213c3",
   "metadata": {},
   "outputs": [
    {
     "name": "stdout",
     "output_type": "stream",
     "text": [
      "The result of 3.9 to the power of 4.8 is: 687.2426657109351\n"
     ]
    }
   ],
   "source": [
    "# Find the result of the first num to the power of the second number\n",
    "print(f'The result of {a} to the power of {b} is: {a ** b}')"
   ]
  },
  {
   "cell_type": "code",
   "execution_count": null,
   "id": "5fa68ccf",
   "metadata": {},
   "outputs": [],
   "source": []
  },
  {
   "cell_type": "markdown",
   "id": "27c5dfc2",
   "metadata": {},
   "source": [
    "# Q. Comparison Operators on float\n",
    "#### Take two different float values.\n",
    "#### Store them in two different variables.\n",
    "### Do below operations on them:-\n",
    "#### Compare these two numbers with below operator:-\n",
    "- Greater than, '>'\n",
    "- Smaller than, '<'\n",
    "- Greater than or equal to, '>='\n",
    "- Less than or equal to, '<='\n",
    "- Observe their output(return type should be boolean)"
   ]
  },
  {
   "cell_type": "code",
   "execution_count": 12,
   "id": "40b43151",
   "metadata": {},
   "outputs": [],
   "source": [
    "a = 12.8\n",
    "b = 20.6"
   ]
  },
  {
   "cell_type": "code",
   "execution_count": 13,
   "id": "ec293d17",
   "metadata": {},
   "outputs": [
    {
     "name": "stdout",
     "output_type": "stream",
     "text": [
      "False\n"
     ]
    }
   ],
   "source": [
    "# Greater than, '>'\n",
    "print(a > b)"
   ]
  },
  {
   "cell_type": "code",
   "execution_count": 14,
   "id": "cadb9b42",
   "metadata": {},
   "outputs": [
    {
     "name": "stdout",
     "output_type": "stream",
     "text": [
      "True\n"
     ]
    }
   ],
   "source": [
    "# Smaller than, '<'\n",
    "print(a < b)"
   ]
  },
  {
   "cell_type": "code",
   "execution_count": 15,
   "id": "614b80ff",
   "metadata": {},
   "outputs": [
    {
     "name": "stdout",
     "output_type": "stream",
     "text": [
      "False\n"
     ]
    }
   ],
   "source": [
    "# Greater than or equal to, '>='\n",
    "print(a >= b)"
   ]
  },
  {
   "cell_type": "code",
   "execution_count": 17,
   "id": "b08196ae",
   "metadata": {},
   "outputs": [
    {
     "name": "stdout",
     "output_type": "stream",
     "text": [
      "True\n"
     ]
    }
   ],
   "source": [
    "# Less than or equal to, '<='\n",
    "print(a <= b)"
   ]
  },
  {
   "cell_type": "code",
   "execution_count": null,
   "id": "4e1663b4",
   "metadata": {},
   "outputs": [],
   "source": []
  },
  {
   "cell_type": "markdown",
   "id": "c70a83b6",
   "metadata": {},
   "source": [
    "# Q. Equality Operator\n",
    "#### Take two different float values.\n",
    "#### Store them in two different variables.\n",
    "### Equate them using equality operators (==, !=)\n",
    "##### Observe the output(return type should be boolean)"
   ]
  },
  {
   "cell_type": "code",
   "execution_count": 18,
   "id": "11864a4c",
   "metadata": {},
   "outputs": [],
   "source": [
    "a = 4.5\n",
    "b = 6.4"
   ]
  },
  {
   "cell_type": "code",
   "execution_count": 20,
   "id": "6f0c9860",
   "metadata": {},
   "outputs": [
    {
     "name": "stdout",
     "output_type": "stream",
     "text": [
      "False\n"
     ]
    }
   ],
   "source": [
    "# Equate them using equality operators (==, !=)\n",
    "print(a == b)"
   ]
  },
  {
   "cell_type": "code",
   "execution_count": 21,
   "id": "612375cd",
   "metadata": {},
   "outputs": [
    {
     "name": "stdout",
     "output_type": "stream",
     "text": [
      "True\n"
     ]
    }
   ],
   "source": [
    "print(a != b)"
   ]
  },
  {
   "cell_type": "code",
   "execution_count": null,
   "id": "2de5ea74",
   "metadata": {},
   "outputs": [],
   "source": []
  },
  {
   "cell_type": "markdown",
   "id": "0b355439",
   "metadata": {},
   "source": [
    "# Q. Logical operators\n",
    "#### Observe the output of below code\n",
    "##### Cross check the output manually\n",
    "- print(10.20 and 20.30) #both are true and second value taken>Output is 20.3\n",
    "- print(0.0 and 20.30) #First is false so first value\n",
    "taken->Output is 0.0\n",
    "\n",
    "- print(20.30 and 0.0) #Goes to till second and second value is\n",
    "false so second is taken>Output is 0.0\n",
    "- print(0.0 and 0.0) #First is false so first value is\n",
    "taken->Output is 0.0\n",
    "- print(10.20 or 20.30) #First is True so first value is\n",
    "taken>Output is 10.2\n",
    "- print(0.0 or 20.30) #Goes to till second and second is true\n",
    "second value is taken->Output is 20.3\n",
    "- print(20.30 or 0.0) #First is True so first value is\n",
    "taken->Output is 20.3\n",
    "- print(0.0 or 0.0) #Goes to till second and second is also\n",
    "false and second value is taken>Output is 0.0\n",
    "- print(not 10.20) #-Not of true is false->Output is False\n",
    "- print(not 0.0) #Not of false is True>Output is True"
   ]
  },
  {
   "cell_type": "code",
   "execution_count": 22,
   "id": "c78acc32",
   "metadata": {},
   "outputs": [
    {
     "name": "stdout",
     "output_type": "stream",
     "text": [
      "20.3\n"
     ]
    }
   ],
   "source": [
    "print(10.20 and 20.30)"
   ]
  },
  {
   "cell_type": "code",
   "execution_count": 23,
   "id": "ff384ad3",
   "metadata": {},
   "outputs": [
    {
     "name": "stdout",
     "output_type": "stream",
     "text": [
      "0.0\n"
     ]
    }
   ],
   "source": [
    "print(0.0 and 20.30)"
   ]
  },
  {
   "cell_type": "code",
   "execution_count": 24,
   "id": "a4847b59",
   "metadata": {},
   "outputs": [
    {
     "name": "stdout",
     "output_type": "stream",
     "text": [
      "0.0\n"
     ]
    }
   ],
   "source": [
    "print(20.30 and 0.0)"
   ]
  },
  {
   "cell_type": "code",
   "execution_count": 25,
   "id": "fe7a87c6",
   "metadata": {},
   "outputs": [
    {
     "name": "stdout",
     "output_type": "stream",
     "text": [
      "0.0\n"
     ]
    }
   ],
   "source": [
    "print(0.0 and 0.0)"
   ]
  },
  {
   "cell_type": "code",
   "execution_count": 26,
   "id": "483a4f80",
   "metadata": {},
   "outputs": [
    {
     "name": "stdout",
     "output_type": "stream",
     "text": [
      "10.2\n"
     ]
    }
   ],
   "source": [
    "print(10.20 or 20.30)"
   ]
  },
  {
   "cell_type": "code",
   "execution_count": 27,
   "id": "09a2903c",
   "metadata": {},
   "outputs": [
    {
     "name": "stdout",
     "output_type": "stream",
     "text": [
      "20.3\n"
     ]
    }
   ],
   "source": [
    "print(0.0 or 20.30)"
   ]
  },
  {
   "cell_type": "code",
   "execution_count": 28,
   "id": "0b02c4ba",
   "metadata": {},
   "outputs": [
    {
     "name": "stdout",
     "output_type": "stream",
     "text": [
      "20.3\n"
     ]
    }
   ],
   "source": [
    "print(20.30 or 0.0)"
   ]
  },
  {
   "cell_type": "code",
   "execution_count": 29,
   "id": "869bc5a4",
   "metadata": {},
   "outputs": [
    {
     "name": "stdout",
     "output_type": "stream",
     "text": [
      "0.0\n"
     ]
    }
   ],
   "source": [
    "print(0.0 or 0.0)"
   ]
  },
  {
   "cell_type": "code",
   "execution_count": 30,
   "id": "5d5d1108",
   "metadata": {},
   "outputs": [
    {
     "name": "stdout",
     "output_type": "stream",
     "text": [
      "False\n"
     ]
    }
   ],
   "source": [
    "print(not 10.20)"
   ]
  },
  {
   "cell_type": "code",
   "execution_count": 31,
   "id": "f109d056",
   "metadata": {},
   "outputs": [
    {
     "name": "stdout",
     "output_type": "stream",
     "text": [
      "True\n"
     ]
    }
   ],
   "source": [
    "print(not 0.0)"
   ]
  },
  {
   "cell_type": "code",
   "execution_count": null,
   "id": "02a64344",
   "metadata": {},
   "outputs": [],
   "source": []
  },
  {
   "cell_type": "markdown",
   "id": "eeb0ee2a",
   "metadata": {},
   "source": [
    "# Q. What is the output of expression inside print statement. Cross checkbefore running the program.\n",
    "- a = 10.20\n",
    "- b - 10.20\n",
    "- print(a is b) #True or False? True 10.20<256\n",
    "- print(a is not b) #True or False? False\n",
    "- Why the Id of float values are different when the same value is\n",
    "assigned to two different variables\n",
    "- ex: a = 10.5 b=10.5. but id will be same if I assign the variable\n",
    "having float i.e. a=c then both a and c's Id are same"
   ]
  },
  {
   "cell_type": "code",
   "execution_count": 32,
   "id": "1dc4d93a",
   "metadata": {},
   "outputs": [],
   "source": [
    "a = 10.20\n",
    "b = 10.20"
   ]
  },
  {
   "cell_type": "code",
   "execution_count": 33,
   "id": "d5de5f4d",
   "metadata": {},
   "outputs": [
    {
     "name": "stdout",
     "output_type": "stream",
     "text": [
      "False\n"
     ]
    }
   ],
   "source": [
    "print(a is b)"
   ]
  },
  {
   "cell_type": "code",
   "execution_count": 34,
   "id": "ebc1893a",
   "metadata": {},
   "outputs": [
    {
     "name": "stdout",
     "output_type": "stream",
     "text": [
      "True\n"
     ]
    }
   ],
   "source": [
    "print(a is not b)"
   ]
  },
  {
   "cell_type": "code",
   "execution_count": 35,
   "id": "73fa3d33",
   "metadata": {},
   "outputs": [
    {
     "data": {
      "text/plain": [
       "2287887899344"
      ]
     },
     "execution_count": 35,
     "metadata": {},
     "output_type": "execute_result"
    }
   ],
   "source": [
    "id(a)"
   ]
  },
  {
   "cell_type": "code",
   "execution_count": 36,
   "id": "eb28a441",
   "metadata": {},
   "outputs": [
    {
     "data": {
      "text/plain": [
       "2287887900336"
      ]
     },
     "execution_count": 36,
     "metadata": {},
     "output_type": "execute_result"
    }
   ],
   "source": [
    "id(b)"
   ]
  },
  {
   "cell_type": "markdown",
   "id": "29228f69",
   "metadata": {},
   "source": [
    "##### Why the Id of float values are different when the same value is assigned to two different variables?\n",
    "- Float values does not use memory reusability concept, because sometimes the floating values might differ depending on the calculations for example 4.3 and 4.33 are two different objects eventhough they start with same number but their decimal values are different. so, if same memory location is allocated for those it will cause issues. That is why even both variables assigned same value the memory location i.e id is different"
   ]
  },
  {
   "cell_type": "code",
   "execution_count": null,
   "id": "ed8ee9a7",
   "metadata": {},
   "outputs": [],
   "source": []
  },
  {
   "cell_type": "markdown",
   "id": "aeb908a8",
   "metadata": {},
   "source": [
    "# Q. Bitwise operation is not applicable between instances of float.\n",
    "-Why the Id of float values are different when the same value is\n",
    "assigned to two different variables\n",
    "ex: a = 10.5 b=10.5. but id will be same if I assign the variable\n",
    "having float i.e. a=c then both a and c's Id are same\n",
    "Object reusability concept is not applicable on float values."
   ]
  },
  {
   "cell_type": "code",
   "execution_count": 37,
   "id": "3d1caf66",
   "metadata": {},
   "outputs": [],
   "source": [
    "# The id are same in this case because they both use same memory location reference"
   ]
  },
  {
   "cell_type": "code",
   "execution_count": null,
   "id": "342190ee",
   "metadata": {},
   "outputs": [],
   "source": []
  },
  {
   "cell_type": "markdown",
   "id": "faf1accc",
   "metadata": {},
   "source": [
    "# Q. Membership operation\n",
    "#### in, not in are two membership operators and it returns boolean value\n",
    "- print('2.7' in 'Python2.7.8') #True\n",
    "- print(10.20 in [10,10.20,10+20j,'Python']) #True\n",
    "- print(10.20 in (10,10.20,10+20j,'Python')) # True\n",
    "- print(20.30 in {1,20.30,30+40j}) # True\n",
    "- print(2.3 in {1:100, 2.3:200, 30+40j:300}) # True\n",
    "- print(10 in range(20)) # True"
   ]
  },
  {
   "cell_type": "code",
   "execution_count": 38,
   "id": "76ec611a",
   "metadata": {},
   "outputs": [
    {
     "name": "stdout",
     "output_type": "stream",
     "text": [
      "True\n"
     ]
    }
   ],
   "source": [
    "print('2.7' in 'Python2.7.8')"
   ]
  },
  {
   "cell_type": "code",
   "execution_count": 39,
   "id": "d2bc4e31",
   "metadata": {},
   "outputs": [
    {
     "name": "stdout",
     "output_type": "stream",
     "text": [
      "True\n"
     ]
    }
   ],
   "source": [
    "print(10.20 in [10,10.20,10+20j,'Python'])"
   ]
  },
  {
   "cell_type": "code",
   "execution_count": 40,
   "id": "fd10be10",
   "metadata": {},
   "outputs": [
    {
     "name": "stdout",
     "output_type": "stream",
     "text": [
      "True\n"
     ]
    }
   ],
   "source": [
    "print(10.20 in (10,10.20,10+20j,'Python'))"
   ]
  },
  {
   "cell_type": "code",
   "execution_count": 41,
   "id": "9a470fc9",
   "metadata": {},
   "outputs": [
    {
     "name": "stdout",
     "output_type": "stream",
     "text": [
      "True\n"
     ]
    }
   ],
   "source": [
    "print(20.30 in {1,20.30,30+40j})"
   ]
  },
  {
   "cell_type": "code",
   "execution_count": 42,
   "id": "9e19c424",
   "metadata": {},
   "outputs": [
    {
     "name": "stdout",
     "output_type": "stream",
     "text": [
      "True\n"
     ]
    }
   ],
   "source": [
    "print(2.3 in {1:100, 2.3:200, 30+40j:300})"
   ]
  },
  {
   "cell_type": "code",
   "execution_count": 43,
   "id": "63c62700",
   "metadata": {},
   "outputs": [
    {
     "name": "stdout",
     "output_type": "stream",
     "text": [
      "True\n"
     ]
    }
   ],
   "source": [
    "print(10 in range(20))"
   ]
  },
  {
   "cell_type": "code",
   "execution_count": null,
   "id": "9394c21b",
   "metadata": {},
   "outputs": [],
   "source": []
  }
 ],
 "metadata": {
  "kernelspec": {
   "display_name": "Python 3 (ipykernel)",
   "language": "python",
   "name": "python3"
  },
  "language_info": {
   "codemirror_mode": {
    "name": "ipython",
    "version": 3
   },
   "file_extension": ".py",
   "mimetype": "text/x-python",
   "name": "python",
   "nbconvert_exporter": "python",
   "pygments_lexer": "ipython3",
   "version": "3.9.13"
  }
 },
 "nbformat": 4,
 "nbformat_minor": 5
}
