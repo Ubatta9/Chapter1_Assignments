{
 "cells": [
  {
   "cell_type": "markdown",
   "id": "6e600bf1",
   "metadata": {},
   "source": [
    "# Q. Declare an int value and store it in a variable.\n",
    "- Check the type and print the id of the same."
   ]
  },
  {
   "cell_type": "code",
   "execution_count": 2,
   "id": "33bbc54a",
   "metadata": {},
   "outputs": [
    {
     "name": "stdout",
     "output_type": "stream",
     "text": [
      "type of 10 is: <class 'int'>\n",
      "id of 10 is: 2337574054480\n"
     ]
    }
   ],
   "source": [
    "a = 10\n",
    "print(f'type of {a} is: {type(a)}')\n",
    "print(f'id of {a} is: {id(a)}')"
   ]
  },
  {
   "cell_type": "code",
   "execution_count": null,
   "id": "c42a19b8",
   "metadata": {},
   "outputs": [],
   "source": []
  },
  {
   "cell_type": "markdown",
   "id": "75421097",
   "metadata": {},
   "source": [
    "# Q. Take one int value between 0 - 256.\n",
    "- Assign it to two different variables.\n",
    "- Check the id of both the variables. It should come the same. Check why?"
   ]
  },
  {
   "cell_type": "code",
   "execution_count": 4,
   "id": "e7cd9664",
   "metadata": {},
   "outputs": [
    {
     "name": "stdout",
     "output_type": "stream",
     "text": [
      "id of a:15 is:2337574054640\n",
      "id of b:15 is:2337574054640\n"
     ]
    }
   ],
   "source": [
    "a = 15\n",
    "b = 15\n",
    "print(f'id of a:{a} is:{id(a)}')\n",
    "print(f'id of b:{b} is:{id(b)}')"
   ]
  },
  {
   "cell_type": "markdown",
   "id": "07caed8e",
   "metadata": {},
   "source": [
    "##### Check the id of both the variables. It should come the same. Check why?\n",
    "- The id of both the varables are same because integers use memory reusability concept. In Python integers range from -5 - 256 are preloaded in the cache/memory. So, when you assign same value to different variables in that range they'll point to same memory location/reference."
   ]
  },
  {
   "cell_type": "code",
   "execution_count": null,
   "id": "9a598659",
   "metadata": {},
   "outputs": [],
   "source": []
  },
  {
   "cell_type": "markdown",
   "id": "fc32885d",
   "metadata": {},
   "source": [
    "# Q. Arithmetic Operations on integers\n",
    "#### Take two different integer values.\n",
    "#### Store them in two different variables.\n",
    "### Do below operations on them:-\n",
    "- Find sum of both numbers\n",
    "- Find difference between them\n",
    "- Find the product of both numbers.\n",
    "- Find value after dividing first num with second number\n",
    "- Find the remainder after dividing first number with second number\n",
    "- Find the quotient after dividing first number with second number\n",
    "- Find the result of the first num to the power of the second number."
   ]
  },
  {
   "cell_type": "code",
   "execution_count": 5,
   "id": "307dbf07",
   "metadata": {},
   "outputs": [],
   "source": [
    "a = 15\n",
    "b = 5"
   ]
  },
  {
   "cell_type": "code",
   "execution_count": 6,
   "id": "5139d3cd",
   "metadata": {},
   "outputs": [
    {
     "name": "stdout",
     "output_type": "stream",
     "text": [
      "Sum of 15 and 5 is: 20\n"
     ]
    }
   ],
   "source": [
    "# Find sum of both numbers\n",
    "print(f'Sum of {a} and {b} is: {a + b}')"
   ]
  },
  {
   "cell_type": "code",
   "execution_count": 7,
   "id": "8e38de5f",
   "metadata": {},
   "outputs": [
    {
     "name": "stdout",
     "output_type": "stream",
     "text": [
      "Difference between 15 and 5 is: 10\n"
     ]
    }
   ],
   "source": [
    "# Find difference between them\n",
    "print(f'Difference between {a} and {b} is: {a - b}')"
   ]
  },
  {
   "cell_type": "code",
   "execution_count": 8,
   "id": "6dac0f97",
   "metadata": {},
   "outputs": [
    {
     "name": "stdout",
     "output_type": "stream",
     "text": [
      " The product of 15 and 5 is: 75\n"
     ]
    }
   ],
   "source": [
    "# Find the product of both numbers.\n",
    "print(f' The product of {a} and {b} is: {a * b}')"
   ]
  },
  {
   "cell_type": "code",
   "execution_count": 11,
   "id": "52568a98",
   "metadata": {},
   "outputs": [
    {
     "name": "stdout",
     "output_type": "stream",
     "text": [
      "Value after dividing 15 with 5 is: 3.0\n",
      "Value after dividing 15 with 5 is: 3\n"
     ]
    }
   ],
   "source": [
    "# Find value after dividing first num with second number\n",
    "print(f'Value after dividing {a} with {b} is: {a / b}')\n",
    "print(f'Value after dividing {a} with {b} is: {int(a / b)}')"
   ]
  },
  {
   "cell_type": "code",
   "execution_count": 12,
   "id": "e4f202dd",
   "metadata": {},
   "outputs": [
    {
     "name": "stdout",
     "output_type": "stream",
     "text": [
      "The remainder after dividing 15 with 5 is: 0\n"
     ]
    }
   ],
   "source": [
    "# Find the remainder after dividing first number with second number\n",
    "print(f'The remainder after dividing {a} with {b} is: {a % b}')"
   ]
  },
  {
   "cell_type": "code",
   "execution_count": 13,
   "id": "91ec9a0f",
   "metadata": {},
   "outputs": [
    {
     "name": "stdout",
     "output_type": "stream",
     "text": [
      "The quotient after dividing 15 with 5 is: 3\n"
     ]
    }
   ],
   "source": [
    "# Find the quotient after dividing first number with second number\n",
    "print(f'The quotient after dividing {a} with {b} is: {a // b}')"
   ]
  },
  {
   "cell_type": "code",
   "execution_count": 14,
   "id": "188849c8",
   "metadata": {},
   "outputs": [
    {
     "name": "stdout",
     "output_type": "stream",
     "text": [
      "The result of 15 to the power of 5 is: 759375\n"
     ]
    }
   ],
   "source": [
    "# Find the result of the first num to the power of the second number.\n",
    "print(f'The result of {a} to the power of {b} is: {a ** b}')"
   ]
  },
  {
   "cell_type": "code",
   "execution_count": null,
   "id": "13cd66c3",
   "metadata": {},
   "outputs": [],
   "source": []
  },
  {
   "cell_type": "markdown",
   "id": "49f762b4",
   "metadata": {},
   "source": [
    "# Q. Comparison Operators on integers\n",
    "#### Take two different integer values.\n",
    "#### Store them in two different variables.\n",
    "## Do below operations on them:-\n",
    "#### Compare se two numbers with below operator:-\n",
    "- Greater than, '>'\n",
    "- Smaller than, '<'\n",
    "- Greater than or equal to, '>='\n",
    "- Less than or equal to, '<='\n",
    "- Observe their output(return type should be boolean)"
   ]
  },
  {
   "cell_type": "code",
   "execution_count": 15,
   "id": "8b34d40e",
   "metadata": {},
   "outputs": [],
   "source": [
    "a = 20\n",
    "b = 30"
   ]
  },
  {
   "cell_type": "code",
   "execution_count": 18,
   "id": "d7e9174a",
   "metadata": {},
   "outputs": [
    {
     "name": "stdout",
     "output_type": "stream",
     "text": [
      "20 > 30 is :False\n"
     ]
    }
   ],
   "source": [
    "# Greater than, '>\n",
    "print(f'{a} > {b} is :{a > b}')"
   ]
  },
  {
   "cell_type": "code",
   "execution_count": 19,
   "id": "9c8eb294",
   "metadata": {},
   "outputs": [
    {
     "name": "stdout",
     "output_type": "stream",
     "text": [
      "20 < 30 is: True\n"
     ]
    }
   ],
   "source": [
    "# Smaller than, '<'\n",
    "print(f'{a} < {b} is: {a < b}')"
   ]
  },
  {
   "cell_type": "code",
   "execution_count": 20,
   "id": "e3fae008",
   "metadata": {},
   "outputs": [
    {
     "name": "stdout",
     "output_type": "stream",
     "text": [
      "20 >= 30 is :False\n"
     ]
    }
   ],
   "source": [
    "# Greater than or equal to, '>='\n",
    "print(f'{a} >= {b} is :{a >= b}')"
   ]
  },
  {
   "cell_type": "code",
   "execution_count": 21,
   "id": "b481f514",
   "metadata": {},
   "outputs": [
    {
     "name": "stdout",
     "output_type": "stream",
     "text": [
      "20 <= 30 is: True\n"
     ]
    }
   ],
   "source": [
    "# Less than or equal to, '<='\n",
    "print(f'{a} <= {b} is: {a <= b}')"
   ]
  },
  {
   "cell_type": "code",
   "execution_count": null,
   "id": "9c5802e7",
   "metadata": {},
   "outputs": [],
   "source": []
  },
  {
   "cell_type": "markdown",
   "id": "42b5d009",
   "metadata": {},
   "source": [
    "# Q. Equality Operator\n",
    "#### Take two different integer values.\n",
    "#### Store them in two different variables.\n",
    "### Equate them using equality operators (==, !=)\n",
    "#### Observe the output(return type should be boolean)"
   ]
  },
  {
   "cell_type": "code",
   "execution_count": 22,
   "id": "49c66a80",
   "metadata": {},
   "outputs": [],
   "source": [
    "a = 125\n",
    "b = 245"
   ]
  },
  {
   "cell_type": "code",
   "execution_count": 23,
   "id": "c53d6de7",
   "metadata": {},
   "outputs": [
    {
     "name": "stdout",
     "output_type": "stream",
     "text": [
      "125 == 245 is: False\n"
     ]
    }
   ],
   "source": [
    "# Equate them using equality operators (==, !=)\n",
    "print(f'{a} == {b} is: {a == b}')"
   ]
  },
  {
   "cell_type": "code",
   "execution_count": 24,
   "id": "8ee82a3b",
   "metadata": {},
   "outputs": [
    {
     "name": "stdout",
     "output_type": "stream",
     "text": [
      "125 != 245 is: True\n"
     ]
    }
   ],
   "source": [
    "print(f'{a} != {b} is: {a != b}')"
   ]
  },
  {
   "cell_type": "code",
   "execution_count": null,
   "id": "9812b9fd",
   "metadata": {},
   "outputs": [],
   "source": []
  },
  {
   "cell_type": "markdown",
   "id": "fe994c74",
   "metadata": {},
   "source": [
    "# Q. Logical operators\n",
    "#### Observe the output of below code\n",
    "\n",
    "### Cross check the output manually\n",
    "- print(10 and 20)\n",
    "#----------------------------------------->Output is 20\n",
    "- print(0 and 20)\n",
    "#----------------------------------------->Output is 0\n",
    "- print(20 and 0)\n",
    "#----------------------------------------->Output is 0\n",
    "- print(0 and 0)\n",
    "#----------------------------------------->Output is 0\n",
    "- print(10 or 20)\n",
    "#----------------------------------------->Output is 10\n",
    "- print(0 or 20)\n",
    "#----------------------------------------->Output is 20\n",
    "- print(20 or 0)\n",
    "#----------------------------------------->Output is 20\n",
    "- print(0 or 0)\n",
    "#----------------------------------------->Output is 0\n",
    "- print(not 10)\n",
    "#----------------------------------------->Output is False\n",
    "- print(not 0)\n",
    "#----------------------------------------->Output is True"
   ]
  },
  {
   "cell_type": "code",
   "execution_count": 26,
   "id": "478a5562",
   "metadata": {},
   "outputs": [
    {
     "name": "stdout",
     "output_type": "stream",
     "text": [
      "10 and 20 : 20\n"
     ]
    }
   ],
   "source": [
    "print(f'{10} and {20} : {10 and 20}')"
   ]
  },
  {
   "cell_type": "code",
   "execution_count": 27,
   "id": "f4482b44",
   "metadata": {},
   "outputs": [
    {
     "name": "stdout",
     "output_type": "stream",
     "text": [
      "0 and 20 : 0\n"
     ]
    }
   ],
   "source": [
    "print(f'{0} and {20} : {0 and 20}')"
   ]
  },
  {
   "cell_type": "code",
   "execution_count": 28,
   "id": "7eb1117c",
   "metadata": {},
   "outputs": [
    {
     "name": "stdout",
     "output_type": "stream",
     "text": [
      "20 and 0: 0\n"
     ]
    }
   ],
   "source": [
    "print(f'{20} and {0}: {20 and 0}')"
   ]
  },
  {
   "cell_type": "code",
   "execution_count": 29,
   "id": "bbd1eaef",
   "metadata": {},
   "outputs": [
    {
     "name": "stdout",
     "output_type": "stream",
     "text": [
      "0 and 0: 0\n"
     ]
    }
   ],
   "source": [
    "print(f'{0} and {0}: {0 and 0}')"
   ]
  },
  {
   "cell_type": "code",
   "execution_count": 30,
   "id": "b03d1d01",
   "metadata": {},
   "outputs": [
    {
     "name": "stdout",
     "output_type": "stream",
     "text": [
      "10 or 20: 10\n"
     ]
    }
   ],
   "source": [
    "print(f'{10} or {20}: {10 or 20}')"
   ]
  },
  {
   "cell_type": "code",
   "execution_count": 31,
   "id": "c0124d9b",
   "metadata": {},
   "outputs": [
    {
     "name": "stdout",
     "output_type": "stream",
     "text": [
      "0 or 20: 20\n"
     ]
    }
   ],
   "source": [
    "print(f'{0} or {20}: {0 or 20}')"
   ]
  },
  {
   "cell_type": "code",
   "execution_count": 32,
   "id": "4bfc6984",
   "metadata": {},
   "outputs": [
    {
     "name": "stdout",
     "output_type": "stream",
     "text": [
      "20 or 0: 20\n"
     ]
    }
   ],
   "source": [
    "print(f'{20} or {0}: {20 or 0}')"
   ]
  },
  {
   "cell_type": "code",
   "execution_count": 33,
   "id": "094e332c",
   "metadata": {},
   "outputs": [
    {
     "name": "stdout",
     "output_type": "stream",
     "text": [
      "0 or 0: 0\n"
     ]
    }
   ],
   "source": [
    "print(f'{0} or {0}: {0 or 0}')"
   ]
  },
  {
   "cell_type": "code",
   "execution_count": 34,
   "id": "0ed422c8",
   "metadata": {},
   "outputs": [
    {
     "name": "stdout",
     "output_type": "stream",
     "text": [
      "not 10: False\n"
     ]
    }
   ],
   "source": [
    "print(f'not {10}: {not 10}')"
   ]
  },
  {
   "cell_type": "code",
   "execution_count": 35,
   "id": "bdc30db1",
   "metadata": {},
   "outputs": [
    {
     "name": "stdout",
     "output_type": "stream",
     "text": [
      "not 0: True\n"
     ]
    }
   ],
   "source": [
    "print(f'not {0}: {not 0}')"
   ]
  },
  {
   "cell_type": "code",
   "execution_count": null,
   "id": "630c4706",
   "metadata": {},
   "outputs": [],
   "source": []
  },
  {
   "cell_type": "markdown",
   "id": "086fd325",
   "metadata": {},
   "source": [
    "# Q. Bitwise Operators\n",
    "#### Do below operations on the values provided below:-\n",
    "- Bitwise and(&) -----------------------------------------> 10, 20\n",
    "-------> Output is 0\n",
    "- Bitwise or(|) -----------------------------------------> 10, 20\n",
    "-------> Output is 30\n",
    "- Bitwise(^) -----------------------------------------> 10, 20\n",
    "-------> Output is 30\n",
    "- Bitwise negation(~) ------------------------------------> 10\n",
    "-------> Output is -11\n",
    "- Bitwise left shift ------------------------------------> 10,2\n",
    "-------> Output is 40\n",
    "- Bitwise right shift ------------------------------------> 10,2\n",
    "-------> Output is 2\n",
    "#### Cross check the output manually"
   ]
  },
  {
   "cell_type": "code",
   "execution_count": 38,
   "id": "e5e76d8c",
   "metadata": {},
   "outputs": [
    {
     "name": "stdout",
     "output_type": "stream",
     "text": [
      "10 & 20 is: 0\n"
     ]
    }
   ],
   "source": [
    "# Bitwise and (&)\n",
    "print(f'{10} & {20} is: {10 & 20}')"
   ]
  },
  {
   "cell_type": "code",
   "execution_count": 39,
   "id": "fc3d11cf",
   "metadata": {},
   "outputs": [
    {
     "name": "stdout",
     "output_type": "stream",
     "text": [
      "10 | 20 is: 30\n"
     ]
    }
   ],
   "source": [
    "# Bitwise or (|)\n",
    "print(f'{10} | {20} is: {10 | 20}')"
   ]
  },
  {
   "cell_type": "code",
   "execution_count": 40,
   "id": "8d036bd5",
   "metadata": {},
   "outputs": [
    {
     "name": "stdout",
     "output_type": "stream",
     "text": [
      "10 ^ 20 is: 30\n"
     ]
    }
   ],
   "source": [
    "# Bitwise (^)\n",
    "print(f'{10} ^ {20} is: {10 ^ 20}')"
   ]
  },
  {
   "cell_type": "code",
   "execution_count": 42,
   "id": "642c9a37",
   "metadata": {},
   "outputs": [
    {
     "name": "stdout",
     "output_type": "stream",
     "text": [
      "~10 is: -11\n"
     ]
    }
   ],
   "source": [
    "# Bitwise Negation (~)\n",
    "print(f'~{10} is: {~10}')"
   ]
  },
  {
   "cell_type": "code",
   "execution_count": 43,
   "id": "a1e0e3a0",
   "metadata": {},
   "outputs": [
    {
     "name": "stdout",
     "output_type": "stream",
     "text": [
      "10 << 2 is: 40\n"
     ]
    }
   ],
   "source": [
    "# Bitwise left shift (<<)\n",
    "print(f'{10} << {2} is: {10 << 2}')"
   ]
  },
  {
   "cell_type": "code",
   "execution_count": 44,
   "id": "adf9b000",
   "metadata": {},
   "outputs": [
    {
     "name": "stdout",
     "output_type": "stream",
     "text": [
      "10 >> 2 is: 2\n"
     ]
    }
   ],
   "source": [
    "# Bitwise right shift (>>)\n",
    "print(f'{10} >> {2} is: {10 >> 2}')"
   ]
  },
  {
   "cell_type": "code",
   "execution_count": null,
   "id": "0b72bfd0",
   "metadata": {},
   "outputs": [],
   "source": []
  },
  {
   "cell_type": "markdown",
   "id": "ff98516c",
   "metadata": {},
   "source": [
    "# Q. What is the output of expression inside print statement. Cross checkbefore running the program.\n",
    "\n",
    "- a = 10\n",
    "- b = 10\n",
    "- print(a is b) #True or False?\n",
    "- print(a is not b) #True or False?\n",
    "- a = 1000\n",
    "- b = 1000\n",
    "- print(a is b) #True or False?\n",
    "- print(a is not b) #True or False?"
   ]
  },
  {
   "cell_type": "code",
   "execution_count": 47,
   "id": "eb7a6665",
   "metadata": {},
   "outputs": [
    {
     "name": "stdout",
     "output_type": "stream",
     "text": [
      "10 is 10:True\n"
     ]
    }
   ],
   "source": [
    "a = 10\n",
    "b = 10\n",
    "print(f'{a} is {b}:{a is b}') #True or False?"
   ]
  },
  {
   "cell_type": "code",
   "execution_count": 48,
   "id": "cdd4428d",
   "metadata": {},
   "outputs": [
    {
     "name": "stdout",
     "output_type": "stream",
     "text": [
      "10 is not 10:False\n"
     ]
    }
   ],
   "source": [
    "print(f'{a} is not {b}:{a is not b}') #True or False?"
   ]
  },
  {
   "cell_type": "code",
   "execution_count": 49,
   "id": "e1055f89",
   "metadata": {},
   "outputs": [
    {
     "name": "stdout",
     "output_type": "stream",
     "text": [
      "1000 is 1000:False\n"
     ]
    }
   ],
   "source": [
    "a = 1000\n",
    "b = 1000\n",
    "print(f'{a} is {b}:{a is b}') #True or False?"
   ]
  },
  {
   "cell_type": "code",
   "execution_count": 50,
   "id": "84d25864",
   "metadata": {},
   "outputs": [
    {
     "name": "stdout",
     "output_type": "stream",
     "text": [
      "1000 is not 1000:True\n"
     ]
    }
   ],
   "source": [
    "print(f'{a} is not {b}:{a is not b}') #True or False?"
   ]
  },
  {
   "cell_type": "code",
   "execution_count": null,
   "id": "8af74a77",
   "metadata": {},
   "outputs": [],
   "source": []
  },
  {
   "cell_type": "markdown",
   "id": "4ecb2805",
   "metadata": {},
   "source": [
    "# Q. What is the output of expression inside print statement. Cross checkbefore running the program.\n",
    "- print(10+(10*32)//2**5&20+(~(-10))<<2)"
   ]
  },
  {
   "cell_type": "code",
   "execution_count": 51,
   "id": "6b2b4d5a",
   "metadata": {},
   "outputs": [
    {
     "name": "stdout",
     "output_type": "stream",
     "text": [
      "20\n"
     ]
    }
   ],
   "source": [
    "print(10+(1032)//2*5&20+(~(-10))<<2)"
   ]
  },
  {
   "cell_type": "code",
   "execution_count": null,
   "id": "6090ca12",
   "metadata": {},
   "outputs": [],
   "source": []
  },
  {
   "cell_type": "markdown",
   "id": "f3f5c51b",
   "metadata": {},
   "source": [
    "# Q. Membership operation\n",
    "### in, not in are two membership operators and it returns boolean value\n",
    "- print('2' in 'Python2.7.8')\n",
    "- print(10 in [10,10.20,10+20j,'Python'])\n",
    "- print(10 in (10,10.20,10+20j,'Python'))\n",
    "- print(2 in {1,2,3})\n",
    "- print(3 in {1:100, 2:200, 3:300})\n",
    "- print(10 in range(20))"
   ]
  },
  {
   "cell_type": "code",
   "execution_count": 52,
   "id": "609adea5",
   "metadata": {},
   "outputs": [
    {
     "name": "stdout",
     "output_type": "stream",
     "text": [
      "True\n"
     ]
    }
   ],
   "source": [
    "print('2' in 'Python2.7.8')"
   ]
  },
  {
   "cell_type": "code",
   "execution_count": 53,
   "id": "3dbc849e",
   "metadata": {},
   "outputs": [
    {
     "name": "stdout",
     "output_type": "stream",
     "text": [
      "True\n"
     ]
    }
   ],
   "source": [
    "print(10 in [10,10.20,10+20j,'Python'])"
   ]
  },
  {
   "cell_type": "code",
   "execution_count": 54,
   "id": "bb51c143",
   "metadata": {},
   "outputs": [
    {
     "name": "stdout",
     "output_type": "stream",
     "text": [
      "True\n"
     ]
    }
   ],
   "source": [
    "print(10 in (10,10.20,10+20j,'Python'))"
   ]
  },
  {
   "cell_type": "code",
   "execution_count": 55,
   "id": "f1ce87d1",
   "metadata": {},
   "outputs": [
    {
     "name": "stdout",
     "output_type": "stream",
     "text": [
      "True\n"
     ]
    }
   ],
   "source": [
    "print(2 in {1,2,3})"
   ]
  },
  {
   "cell_type": "code",
   "execution_count": 56,
   "id": "51e80407",
   "metadata": {},
   "outputs": [
    {
     "name": "stdout",
     "output_type": "stream",
     "text": [
      "True\n"
     ]
    }
   ],
   "source": [
    "print(3 in {1:100, 2:200, 3:300})"
   ]
  },
  {
   "cell_type": "code",
   "execution_count": 57,
   "id": "045fbe1c",
   "metadata": {},
   "outputs": [
    {
     "name": "stdout",
     "output_type": "stream",
     "text": [
      "True\n"
     ]
    }
   ],
   "source": [
    "print(10 in range(20))"
   ]
  },
  {
   "cell_type": "code",
   "execution_count": null,
   "id": "f36ae7e0",
   "metadata": {},
   "outputs": [],
   "source": []
  },
  {
   "cell_type": "markdown",
   "id": "5bd37e88",
   "metadata": {},
   "source": [
    "# Q. An integer can be represented in binary, octal or hexadecimal form.\n",
    "### Declare one binary, one octal and one hexadecimal value and store themin three different variables.\n",
    "#### Convert 9876 to its binary, octal and hexadecimal equivalent and print their corresponding value."
   ]
  },
  {
   "cell_type": "code",
   "execution_count": 58,
   "id": "c9ed4ec2",
   "metadata": {},
   "outputs": [
    {
     "name": "stdout",
     "output_type": "stream",
     "text": [
      "11\n",
      "30\n",
      "47\n"
     ]
    }
   ],
   "source": [
    "a = 0b1011\n",
    "b = 0o36\n",
    "c = 0x2F\n",
    "print(a)\n",
    "print(b)\n",
    "print(c)"
   ]
  },
  {
   "cell_type": "code",
   "execution_count": 59,
   "id": "227b3c3b",
   "metadata": {},
   "outputs": [
    {
     "name": "stdout",
     "output_type": "stream",
     "text": [
      "binary equivalent of 9876 is:0b10011010010100\n"
     ]
    }
   ],
   "source": [
    "d = 9876\n",
    "print(f'binary equivalent of {d} is:{bin(d)}')"
   ]
  },
  {
   "cell_type": "code",
   "execution_count": 60,
   "id": "fb80eacb",
   "metadata": {},
   "outputs": [
    {
     "name": "stdout",
     "output_type": "stream",
     "text": [
      "Octal equivalent of 9876 is:0o23224\n"
     ]
    }
   ],
   "source": [
    "print(f'Octal equivalent of {d} is:{oct(d)}')"
   ]
  },
  {
   "cell_type": "code",
   "execution_count": 61,
   "id": "fed6d21d",
   "metadata": {},
   "outputs": [
    {
     "name": "stdout",
     "output_type": "stream",
     "text": [
      "hexadecimal equivalent of 9876 is:0x2694\n"
     ]
    }
   ],
   "source": [
    "print(f'hexadecimal equivalent of {d} is:{hex(d)}')"
   ]
  },
  {
   "cell_type": "code",
   "execution_count": null,
   "id": "ff9a01bb",
   "metadata": {},
   "outputs": [],
   "source": []
  },
  {
   "cell_type": "markdown",
   "id": "e43c4a13",
   "metadata": {},
   "source": [
    "# Q. What will be the output of following:-\n",
    "- a = 0b1010000\n",
    "- print(a)\n",
    "- b = 0o7436\n",
    "- print(b)\n",
    "- c = 0xfade\n",
    "- print(c)\n",
    "- print(bin(80))\n",
    "\n",
    "- print(oct(3870))\n",
    "- print(hex(64222))\n",
    "- print(bin(0b1010000))\n",
    "- print(bin(0xfade))\n",
    "- print(oct(0xfade))\n",
    "- print(oct(0o7436))\n",
    "- print(hex(0b1010000))\n",
    "- print(hex(0xfade))"
   ]
  },
  {
   "cell_type": "code",
   "execution_count": 74,
   "id": "3789f8e8",
   "metadata": {},
   "outputs": [
    {
     "name": "stdout",
     "output_type": "stream",
     "text": [
      "Integer value of 0b1010000 is: 80\n"
     ]
    }
   ],
   "source": [
    "a = 0b1010000\n",
    "print(f'Integer value of 0b1010000 is: {a}')"
   ]
  },
  {
   "cell_type": "code",
   "execution_count": 75,
   "id": "aebdb842",
   "metadata": {},
   "outputs": [
    {
     "name": "stdout",
     "output_type": "stream",
     "text": [
      "Integer value of 0o7436 is:3870\n"
     ]
    }
   ],
   "source": [
    "b = 0o7436\n",
    "print(f'Integer value of 0o7436 is:{b}')"
   ]
  },
  {
   "cell_type": "code",
   "execution_count": 64,
   "id": "c277cf03",
   "metadata": {},
   "outputs": [
    {
     "name": "stdout",
     "output_type": "stream",
     "text": [
      "64222\n"
     ]
    }
   ],
   "source": [
    "c = 0xfade\n",
    "print(f'Integer value of 0xfade is: {c}')"
   ]
  },
  {
   "cell_type": "code",
   "execution_count": 76,
   "id": "1842b15f",
   "metadata": {},
   "outputs": [
    {
     "name": "stdout",
     "output_type": "stream",
     "text": [
      "binary value of 80 is: 0b1010000\n"
     ]
    }
   ],
   "source": [
    "print(f'binary value of 80 is: {bin(80)}')"
   ]
  },
  {
   "cell_type": "code",
   "execution_count": 77,
   "id": "75b17565",
   "metadata": {},
   "outputs": [
    {
     "name": "stdout",
     "output_type": "stream",
     "text": [
      "Octal value of 3870 is: 0o7436\n"
     ]
    }
   ],
   "source": [
    "print(f'Octal value of 3870 is: {oct(3870)}')"
   ]
  },
  {
   "cell_type": "code",
   "execution_count": 78,
   "id": "1740ded6",
   "metadata": {},
   "outputs": [
    {
     "name": "stdout",
     "output_type": "stream",
     "text": [
      "Hexadecimal value of 64222 is: 0xfade\n"
     ]
    }
   ],
   "source": [
    "print(f'Hexadecimal value of 64222 is: {hex(64222)}')"
   ]
  },
  {
   "cell_type": "code",
   "execution_count": 79,
   "id": "8d53773e",
   "metadata": {},
   "outputs": [
    {
     "name": "stdout",
     "output_type": "stream",
     "text": [
      "Binary value of 0b1010000 is:0b1010000\n"
     ]
    }
   ],
   "source": [
    "print(f'Binary value of 0b1010000 is:{bin(0b1010000)}')"
   ]
  },
  {
   "cell_type": "code",
   "execution_count": 80,
   "id": "5791e35b",
   "metadata": {},
   "outputs": [
    {
     "name": "stdout",
     "output_type": "stream",
     "text": [
      "Binary value of 0xfade is:0b1111101011011110\n"
     ]
    }
   ],
   "source": [
    "print(f'Binary value of 0xfade is:{bin(0xfade)}')"
   ]
  },
  {
   "cell_type": "code",
   "execution_count": 81,
   "id": "68c38aa7",
   "metadata": {},
   "outputs": [
    {
     "name": "stdout",
     "output_type": "stream",
     "text": [
      "Octal value of 0xfade is:0o175336\n"
     ]
    }
   ],
   "source": [
    "print(f'Octal value of 0xfade is:{oct(0xfade)}')"
   ]
  },
  {
   "cell_type": "code",
   "execution_count": 82,
   "id": "9789f150",
   "metadata": {},
   "outputs": [
    {
     "name": "stdout",
     "output_type": "stream",
     "text": [
      "Octal value of 0o7436 is:0o7436\n"
     ]
    }
   ],
   "source": [
    "print(f'Octal value of 0o7436 is:{oct(0o7436)}')"
   ]
  },
  {
   "cell_type": "code",
   "execution_count": 83,
   "id": "f3512fe3",
   "metadata": {},
   "outputs": [
    {
     "name": "stdout",
     "output_type": "stream",
     "text": [
      "Hexadecimal value of 0b1010000 is:0x50\n"
     ]
    }
   ],
   "source": [
    "print(f'Hexadecimal value of 0b1010000 is:{hex(0b1010000)}')"
   ]
  },
  {
   "cell_type": "code",
   "execution_count": 84,
   "id": "6c8feb39",
   "metadata": {},
   "outputs": [
    {
     "name": "stdout",
     "output_type": "stream",
     "text": [
      "Hexadecimal value of 0xfade is:0xfade\n"
     ]
    }
   ],
   "source": [
    "print(f'Hexadecimal value of 0xfade is:{hex(0xfade)}')"
   ]
  },
  {
   "cell_type": "code",
   "execution_count": null,
   "id": "f0e4c08c",
   "metadata": {},
   "outputs": [],
   "source": []
  }
 ],
 "metadata": {
  "kernelspec": {
   "display_name": "Python 3 (ipykernel)",
   "language": "python",
   "name": "python3"
  },
  "language_info": {
   "codemirror_mode": {
    "name": "ipython",
    "version": 3
   },
   "file_extension": ".py",
   "mimetype": "text/x-python",
   "name": "python",
   "nbconvert_exporter": "python",
   "pygments_lexer": "ipython3",
   "version": "3.9.13"
  }
 },
 "nbformat": 4,
 "nbformat_minor": 5
}
