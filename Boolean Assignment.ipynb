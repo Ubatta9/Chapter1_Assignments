{
 "cells": [
  {
   "cell_type": "markdown",
   "id": "5e41fbb9",
   "metadata": {},
   "source": [
    "## Q. Declare a boolean value and store it in a variable.\n",
    "### Check the type and print the id of the same."
   ]
  },
  {
   "cell_type": "code",
   "execution_count": 2,
   "id": "f0f7086f",
   "metadata": {},
   "outputs": [
    {
     "name": "stdout",
     "output_type": "stream",
     "text": [
      "<class 'bool'>\n",
      "140726893017192\n"
     ]
    }
   ],
   "source": [
    "a = True\n",
    "print(type(a))\n",
    "print(id(a))"
   ]
  },
  {
   "cell_type": "code",
   "execution_count": null,
   "id": "5d364b76",
   "metadata": {},
   "outputs": [],
   "source": []
  },
  {
   "cell_type": "markdown",
   "id": "d331f4d3",
   "metadata": {},
   "source": [
    "# Q. Take one boolean value between 0 - 256.\n",
    "### Assign it to two different variables.\n",
    "### Check the id of both the variables. It should come the same. Check why?"
   ]
  },
  {
   "cell_type": "code",
   "execution_count": 3,
   "id": "b4f83a40",
   "metadata": {},
   "outputs": [
    {
     "name": "stdout",
     "output_type": "stream",
     "text": [
      "140726893017192\n",
      "140726893017192\n"
     ]
    }
   ],
   "source": [
    "a = bool(10)\n",
    "b = bool(10)\n",
    "print(id(a))\n",
    "print(id(b))"
   ]
  },
  {
   "cell_type": "code",
   "execution_count": 4,
   "id": "8c2e98c5",
   "metadata": {},
   "outputs": [],
   "source": [
    "# The id's of both variables are same because python preloads some values in cache already\n",
    "#It ranges from -5 to 256, That is why when you give same value to two different variables in that range\n",
    "# it gets the same reference location for those two variables. So that, it gets better optimization while using the memory\n",
    "# It is kind of using memory reusability"
   ]
  },
  {
   "cell_type": "code",
   "execution_count": null,
   "id": "5794c6df",
   "metadata": {},
   "outputs": [],
   "source": []
  },
  {
   "cell_type": "markdown",
   "id": "87bb91fd",
   "metadata": {},
   "source": [
    "# Q. Arithmetic Operations on boolean data\n",
    "#### Take two different boolean values.\n",
    "#### Store them in two different variables.\n",
    "## Do below operations on them:-\n",
    "- Find sum of both values\n",
    "- Find difference between them\n",
    "- Find the product of both.\n",
    "- Find value after dividing first value with second value\n",
    "- Find the remainder after dividing first value with second value\n",
    "- Find the quotient after dividing first value with second value\n",
    "- Find the result of first value to the power of second value."
   ]
  },
  {
   "cell_type": "code",
   "execution_count": 25,
   "id": "6b1fbc8a",
   "metadata": {},
   "outputs": [],
   "source": [
    "# Declaring variables\n",
    "a = False\n",
    "b = True\n",
    "\n"
   ]
  },
  {
   "cell_type": "markdown",
   "id": "1e100ff0",
   "metadata": {},
   "source": [
    "#### - Find sum of both boolean values\n",
    "\n"
   ]
  },
  {
   "cell_type": "code",
   "execution_count": 18,
   "id": "6354d59d",
   "metadata": {},
   "outputs": [
    {
     "name": "stdout",
     "output_type": "stream",
     "text": [
      "False + True is: 1\n"
     ]
    }
   ],
   "source": [
    "s = a + b\n",
    "print(f'{a} + {b} is: {s}')"
   ]
  },
  {
   "cell_type": "markdown",
   "id": "e2eefc90",
   "metadata": {},
   "source": [
    "#### - Find difference between them"
   ]
  },
  {
   "cell_type": "code",
   "execution_count": 20,
   "id": "709c7f7f",
   "metadata": {},
   "outputs": [
    {
     "name": "stdout",
     "output_type": "stream",
     "text": [
      "False - True is: -1\n"
     ]
    }
   ],
   "source": [
    "d = a - b\n",
    "print(f'{a} - {b} is: {d}')"
   ]
  },
  {
   "cell_type": "markdown",
   "id": "b3cff074",
   "metadata": {},
   "source": [
    "#### - Find the product of both."
   ]
  },
  {
   "cell_type": "code",
   "execution_count": 22,
   "id": "95d8180b",
   "metadata": {},
   "outputs": [
    {
     "name": "stdout",
     "output_type": "stream",
     "text": [
      "False * True is: 0\n"
     ]
    }
   ],
   "source": [
    "p = a * b\n",
    "print(f'{a} * {b} is: {p}')"
   ]
  },
  {
   "cell_type": "markdown",
   "id": "449c0ac2",
   "metadata": {},
   "source": [
    "#### - Find value after dividing first value with second value"
   ]
  },
  {
   "cell_type": "code",
   "execution_count": 23,
   "id": "988533b9",
   "metadata": {},
   "outputs": [
    {
     "name": "stdout",
     "output_type": "stream",
     "text": [
      "False / True is: 0.0\n"
     ]
    }
   ],
   "source": [
    "div = a / b\n",
    "print(f'{a} / {b} is: {div}')"
   ]
  },
  {
   "cell_type": "markdown",
   "id": "3f9b6045",
   "metadata": {},
   "source": [
    "#### - Find the remainder after dividing first value with second value"
   ]
  },
  {
   "cell_type": "code",
   "execution_count": 24,
   "id": "5b9209c5",
   "metadata": {},
   "outputs": [
    {
     "name": "stdout",
     "output_type": "stream",
     "text": [
      "False % True is: 0\n"
     ]
    }
   ],
   "source": [
    "rem = a % b\n",
    "print(f'{a} % {b} is: {rem}')"
   ]
  },
  {
   "cell_type": "markdown",
   "id": "a4999229",
   "metadata": {},
   "source": [
    "#### - Find the quotient after dividing first value with second value"
   ]
  },
  {
   "cell_type": "code",
   "execution_count": 26,
   "id": "52af5f78",
   "metadata": {
    "scrolled": true
   },
   "outputs": [
    {
     "name": "stdout",
     "output_type": "stream",
     "text": [
      "False // True is: 0\n"
     ]
    }
   ],
   "source": [
    "q = a // b\n",
    "print(f'{a} // {b} is: {q}')"
   ]
  },
  {
   "cell_type": "markdown",
   "id": "a98f4dcb",
   "metadata": {},
   "source": [
    "#### - Find the result of first value to the power of second value."
   ]
  },
  {
   "cell_type": "code",
   "execution_count": 27,
   "id": "adb71d14",
   "metadata": {},
   "outputs": [
    {
     "name": "stdout",
     "output_type": "stream",
     "text": [
      "False ** True is: 0\n"
     ]
    }
   ],
   "source": [
    "val = a ** b\n",
    "print(f'{a} ** {b} is: {val}')"
   ]
  },
  {
   "cell_type": "code",
   "execution_count": null,
   "id": "510b8c35",
   "metadata": {},
   "outputs": [],
   "source": []
  },
  {
   "cell_type": "markdown",
   "id": "9d4a299d",
   "metadata": {},
   "source": [
    "# Q. Comparison Operators on boolean values\n",
    "- Take two different boolean values.\n",
    "- Store them in two different variables.\n",
    "### Do below operations on them:-\n",
    "#### Compare these two values with below operator:-\n",
    "- Greater than, '>'\n",
    "- less than, '<'\n",
    "- Greater than or equal to, '>='\n",
    "- Less than or equal to, '<='\n",
    "- Observe their output(return type should be boolean)"
   ]
  },
  {
   "cell_type": "code",
   "execution_count": 28,
   "id": "6f263c18",
   "metadata": {},
   "outputs": [],
   "source": [
    "a = True\n",
    "b = False"
   ]
  },
  {
   "cell_type": "code",
   "execution_count": 30,
   "id": "308099da",
   "metadata": {},
   "outputs": [
    {
     "name": "stdout",
     "output_type": "stream",
     "text": [
      "True\n",
      "<class 'bool'>\n"
     ]
    }
   ],
   "source": [
    "# Greater than, '>'\n",
    "c = a > b\n",
    "print(c)\n",
    "print(type(c))"
   ]
  },
  {
   "cell_type": "code",
   "execution_count": 31,
   "id": "a16ea68c",
   "metadata": {},
   "outputs": [
    {
     "name": "stdout",
     "output_type": "stream",
     "text": [
      "False\n",
      "<class 'bool'>\n"
     ]
    }
   ],
   "source": [
    "# less than, '<\n",
    "d = a < b\n",
    "print(d)\n",
    "print(type(d))"
   ]
  },
  {
   "cell_type": "code",
   "execution_count": 32,
   "id": "301c207a",
   "metadata": {},
   "outputs": [
    {
     "name": "stdout",
     "output_type": "stream",
     "text": [
      "True\n",
      "<class 'bool'>\n"
     ]
    }
   ],
   "source": [
    "# Greater than or equal to, '>='\n",
    "e = a >= b\n",
    "print(e)\n",
    "print(type(e))"
   ]
  },
  {
   "cell_type": "code",
   "execution_count": 33,
   "id": "13fb2079",
   "metadata": {},
   "outputs": [
    {
     "name": "stdout",
     "output_type": "stream",
     "text": [
      "False\n",
      "<class 'bool'>\n"
     ]
    }
   ],
   "source": [
    "# Less than or equal to, '<='\n",
    "f = a <= b\n",
    "print(f)\n",
    "print(type(f))"
   ]
  },
  {
   "cell_type": "code",
   "execution_count": null,
   "id": "81474b0b",
   "metadata": {},
   "outputs": [],
   "source": []
  },
  {
   "cell_type": "markdown",
   "id": "5ee1942c",
   "metadata": {},
   "source": [
    "# Q. Equality Operator\n",
    "- Take two different boolean values.\n",
    "- Store them in two different variables.\n",
    "#### Equate them using equality operators (==, !=)\n",
    "- Observe the output(return type should be boolean)"
   ]
  },
  {
   "cell_type": "code",
   "execution_count": 34,
   "id": "80316f81",
   "metadata": {},
   "outputs": [
    {
     "name": "stdout",
     "output_type": "stream",
     "text": [
      "False\n",
      "<class 'bool'>\n"
     ]
    }
   ],
   "source": [
    "a = False\n",
    "b = True\n",
    "\n",
    "# using ==\n",
    "c = a == b\n",
    "print(c)\n",
    "print(type(c))"
   ]
  },
  {
   "cell_type": "code",
   "execution_count": 35,
   "id": "45d91e92",
   "metadata": {},
   "outputs": [
    {
     "name": "stdout",
     "output_type": "stream",
     "text": [
      "True\n",
      "<class 'bool'>\n"
     ]
    }
   ],
   "source": [
    "# using !=\n",
    "d = a != b\n",
    "print(d)\n",
    "print(type(d))"
   ]
  },
  {
   "cell_type": "code",
   "execution_count": null,
   "id": "562420b4",
   "metadata": {},
   "outputs": [],
   "source": []
  },
  {
   "cell_type": "markdown",
   "id": "58349f0a",
   "metadata": {},
   "source": [
    "# Q. Logical operators\n",
    "####  Observe the output of below code\n",
    "#### Cross check the output manually\n",
    "- print(True and True)\n",
    "#----------------------------------------->Output is True\n",
    "\n",
    "- print(False and True)\n",
    "#----------------------------------------->Output is False\n",
    "- print(True and False)\n",
    "#----------------------------------------->Output is False\n",
    "- print(False and False)\n",
    "#----------------------------------------->Output is False\n",
    "- print(True or True)\n",
    "#----------------------------------------->Output is True\n",
    "- print(False or True)\n",
    "#----------------------------------------->Output is True\n",
    "- print(True or False)\n",
    "#----------------------------------------->Output is True\n",
    "- print(False or False)\n",
    "#----------------------------------------->Output is False\n",
    "- print(not True)\n",
    "#----------------------------------------->Output is False\n",
    "- print(not False)\n",
    "#----------------------------------------->Output is True"
   ]
  },
  {
   "cell_type": "code",
   "execution_count": 36,
   "id": "92d5e73e",
   "metadata": {},
   "outputs": [
    {
     "name": "stdout",
     "output_type": "stream",
     "text": [
      "True\n"
     ]
    }
   ],
   "source": [
    "print(True and True)"
   ]
  },
  {
   "cell_type": "code",
   "execution_count": 37,
   "id": "6fb580d1",
   "metadata": {},
   "outputs": [
    {
     "name": "stdout",
     "output_type": "stream",
     "text": [
      "False\n"
     ]
    }
   ],
   "source": [
    "print(False and True)"
   ]
  },
  {
   "cell_type": "code",
   "execution_count": 38,
   "id": "cd8fec85",
   "metadata": {},
   "outputs": [
    {
     "name": "stdout",
     "output_type": "stream",
     "text": [
      "False\n"
     ]
    }
   ],
   "source": [
    "print(True and False)"
   ]
  },
  {
   "cell_type": "code",
   "execution_count": 39,
   "id": "f3c5e58d",
   "metadata": {},
   "outputs": [
    {
     "name": "stdout",
     "output_type": "stream",
     "text": [
      "False\n"
     ]
    }
   ],
   "source": [
    "print(False and False)"
   ]
  },
  {
   "cell_type": "code",
   "execution_count": 40,
   "id": "814073a1",
   "metadata": {},
   "outputs": [
    {
     "name": "stdout",
     "output_type": "stream",
     "text": [
      "True\n"
     ]
    }
   ],
   "source": [
    "print(True or True)"
   ]
  },
  {
   "cell_type": "code",
   "execution_count": 41,
   "id": "eaa6623a",
   "metadata": {},
   "outputs": [
    {
     "name": "stdout",
     "output_type": "stream",
     "text": [
      "True\n"
     ]
    }
   ],
   "source": [
    "print(False or True)"
   ]
  },
  {
   "cell_type": "code",
   "execution_count": 42,
   "id": "fefb5b7f",
   "metadata": {},
   "outputs": [
    {
     "name": "stdout",
     "output_type": "stream",
     "text": [
      "True\n"
     ]
    }
   ],
   "source": [
    "print(True or False)"
   ]
  },
  {
   "cell_type": "code",
   "execution_count": 43,
   "id": "d541c0f4",
   "metadata": {},
   "outputs": [
    {
     "name": "stdout",
     "output_type": "stream",
     "text": [
      "False\n"
     ]
    }
   ],
   "source": [
    "print(False or False)"
   ]
  },
  {
   "cell_type": "code",
   "execution_count": 44,
   "id": "46d5a4e7",
   "metadata": {},
   "outputs": [
    {
     "name": "stdout",
     "output_type": "stream",
     "text": [
      "False\n"
     ]
    }
   ],
   "source": [
    "print(not True)"
   ]
  },
  {
   "cell_type": "code",
   "execution_count": 45,
   "id": "22ca94d0",
   "metadata": {},
   "outputs": [
    {
     "name": "stdout",
     "output_type": "stream",
     "text": [
      "True\n"
     ]
    }
   ],
   "source": [
    "print(not False)"
   ]
  },
  {
   "cell_type": "code",
   "execution_count": null,
   "id": "ccf107f4",
   "metadata": {},
   "outputs": [],
   "source": []
  },
  {
   "cell_type": "markdown",
   "id": "6e419431",
   "metadata": {},
   "source": [
    "# Q. Bitwise Operators\n",
    "#### Do below operations on the values provided below:-\n",
    "- Bitwise and(&) --------------> True, True -------> Output is True\n",
    "- Bitwise or(|) --------------> True, False -------> Output is True\n",
    "- Bitwise(^) --------------> True, False -------> Output is True\n",
    "- Bitwise negation(~) ---------> True -------> Output is -2\n",
    "- Bitwise left shift ---------> True,2 -------> Output is 4\n",
    "- Bitwise right shift ---------> True,2 -------> Output is 0\n",
    "- Cross check the output manually"
   ]
  },
  {
   "cell_type": "code",
   "execution_count": 46,
   "id": "a5c2093f",
   "metadata": {},
   "outputs": [
    {
     "name": "stdout",
     "output_type": "stream",
     "text": [
      "True\n"
     ]
    }
   ],
   "source": [
    "# Bitwise and(&) \n",
    "print(True & True)"
   ]
  },
  {
   "cell_type": "code",
   "execution_count": 47,
   "id": "2ac29530",
   "metadata": {},
   "outputs": [
    {
     "name": "stdout",
     "output_type": "stream",
     "text": [
      "True\n"
     ]
    }
   ],
   "source": [
    "# Bitwise or(|) \n",
    "print(True | False)"
   ]
  },
  {
   "cell_type": "code",
   "execution_count": 48,
   "id": "2797769d",
   "metadata": {},
   "outputs": [
    {
     "name": "stdout",
     "output_type": "stream",
     "text": [
      "True\n"
     ]
    }
   ],
   "source": [
    "# Bitwise(^)\n",
    "print(True ^ False)"
   ]
  },
  {
   "cell_type": "code",
   "execution_count": 51,
   "id": "86281e3c",
   "metadata": {},
   "outputs": [
    {
     "name": "stdout",
     "output_type": "stream",
     "text": [
      "-2\n"
     ]
    }
   ],
   "source": [
    "# Bitwise negation(~)\n",
    "print(~True)"
   ]
  },
  {
   "cell_type": "code",
   "execution_count": 52,
   "id": "abe85a54",
   "metadata": {},
   "outputs": [
    {
     "name": "stdout",
     "output_type": "stream",
     "text": [
      "4\n"
     ]
    }
   ],
   "source": [
    "# Bitwise left shift\n",
    "print(True << 2)"
   ]
  },
  {
   "cell_type": "code",
   "execution_count": 53,
   "id": "108ea033",
   "metadata": {},
   "outputs": [
    {
     "name": "stdout",
     "output_type": "stream",
     "text": [
      "0\n"
     ]
    }
   ],
   "source": [
    "# Bitwise right shift\n",
    "print(True >> 2)"
   ]
  },
  {
   "cell_type": "code",
   "execution_count": null,
   "id": "b5e4394f",
   "metadata": {},
   "outputs": [],
   "source": []
  },
  {
   "cell_type": "markdown",
   "id": "af848059",
   "metadata": {},
   "source": [
    "# Q. What is the output of expression inside the print statement. Cross\n",
    "#### check before running the program.\n",
    "- a = True\n",
    "- b = True\n",
    "- print(a is b) #True or False? #\n",
    "\n",
    "- print(a is not b) #True or False?\n",
    "- a = False\n",
    "- b = False\n",
    "- print(a is b) #True or False?\n",
    "- print(a is not b) #True or False?"
   ]
  },
  {
   "cell_type": "code",
   "execution_count": 54,
   "id": "08788845",
   "metadata": {},
   "outputs": [
    {
     "name": "stdout",
     "output_type": "stream",
     "text": [
      "True\n"
     ]
    }
   ],
   "source": [
    "a = True\n",
    "b = True\n",
    "print(a is b) # True or False? # True"
   ]
  },
  {
   "cell_type": "code",
   "execution_count": 55,
   "id": "4c05f4d1",
   "metadata": {},
   "outputs": [
    {
     "name": "stdout",
     "output_type": "stream",
     "text": [
      "False\n"
     ]
    }
   ],
   "source": [
    "print(a is not b) #True or False? False"
   ]
  },
  {
   "cell_type": "code",
   "execution_count": 56,
   "id": "93a803c0",
   "metadata": {},
   "outputs": [
    {
     "name": "stdout",
     "output_type": "stream",
     "text": [
      "True\n"
     ]
    }
   ],
   "source": [
    "a = False\n",
    "b = False\n",
    "print( a is b) #True or False? True"
   ]
  },
  {
   "cell_type": "code",
   "execution_count": 57,
   "id": "08279c0d",
   "metadata": {},
   "outputs": [
    {
     "name": "stdout",
     "output_type": "stream",
     "text": [
      "False\n"
     ]
    }
   ],
   "source": [
    "print(a is not b) #True or False? False"
   ]
  },
  {
   "cell_type": "code",
   "execution_count": null,
   "id": "64cf5c43",
   "metadata": {},
   "outputs": [],
   "source": []
  },
  {
   "cell_type": "markdown",
   "id": "f4b14db5",
   "metadata": {},
   "source": [
    "# Q. Membership operation\n",
    "#### in, not in are two membership operators and it returns boolean value\n",
    "- print(True in [10,10.20,10+20j,'Python', True])\n",
    "- print(False in (10,10.20,10+20j,'Python', False))\n",
    "- print(True in {1,2,3, True})\n",
    "- print(True in {True:100, False:200, True:300})\n",
    "- print(False in {True:100, False:200, True:300})"
   ]
  },
  {
   "cell_type": "code",
   "execution_count": 58,
   "id": "4cf3c744",
   "metadata": {},
   "outputs": [
    {
     "name": "stdout",
     "output_type": "stream",
     "text": [
      "True\n"
     ]
    }
   ],
   "source": [
    "print(True in [10,10.20,10+20j,'Python', True])"
   ]
  },
  {
   "cell_type": "code",
   "execution_count": 59,
   "id": "fd9c3e47",
   "metadata": {},
   "outputs": [
    {
     "name": "stdout",
     "output_type": "stream",
     "text": [
      "True\n"
     ]
    }
   ],
   "source": [
    "print(False in (10,10.20,10+20j,'Python', False))"
   ]
  },
  {
   "cell_type": "code",
   "execution_count": 60,
   "id": "0ca5c0dd",
   "metadata": {},
   "outputs": [
    {
     "name": "stdout",
     "output_type": "stream",
     "text": [
      "True\n"
     ]
    }
   ],
   "source": [
    "print(True in {1,2,3, True})"
   ]
  },
  {
   "cell_type": "code",
   "execution_count": 64,
   "id": "39713f34",
   "metadata": {},
   "outputs": [
    {
     "name": "stdout",
     "output_type": "stream",
     "text": [
      "True\n"
     ]
    }
   ],
   "source": [
    "print(True in {True:100, False:200, True:300})"
   ]
  },
  {
   "cell_type": "code",
   "execution_count": 62,
   "id": "88d4713e",
   "metadata": {},
   "outputs": [
    {
     "name": "stdout",
     "output_type": "stream",
     "text": [
      "True\n"
     ]
    }
   ],
   "source": [
    "print(False in {True:100, False:200, True:300})"
   ]
  },
  {
   "cell_type": "code",
   "execution_count": null,
   "id": "15fef706",
   "metadata": {},
   "outputs": [],
   "source": []
  }
 ],
 "metadata": {
  "kernelspec": {
   "display_name": "Python 3 (ipykernel)",
   "language": "python",
   "name": "python3"
  },
  "language_info": {
   "codemirror_mode": {
    "name": "ipython",
    "version": 3
   },
   "file_extension": ".py",
   "mimetype": "text/x-python",
   "name": "python",
   "nbconvert_exporter": "python",
   "pygments_lexer": "ipython3",
   "version": "3.9.13"
  }
 },
 "nbformat": 4,
 "nbformat_minor": 5
}
